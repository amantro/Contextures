{
 "cells": [
  {
   "cell_type": "code",
   "execution_count": 1,
   "id": "5ed60c37",
   "metadata": {},
   "outputs": [
    {
     "name": "stdout",
     "output_type": "stream",
     "text": [
      "Pipeline output shape: (4, 5)\n",
      "Embedding shape: torch.Size([4, 32])\n"
     ]
    }
   ],
   "source": [
    "import pandas as pd\n",
    "import torch\n",
    "from feature_transforms.pipeline import ColumnPipeline\n",
    "from utils.registry import get_encoder\n",
    "\n",
    "# test dataframe\n",
    "df = pd.DataFrame({\n",
    "    'f1' : [0.1, 0.3, 0.2, 0.9],\n",
    "    'f2' : [1.0, 0.2, 0.4, 0.5],\n",
    "    'city' : ['NY', 'LA', 'NY', 'SF'],\n",
    "})\n",
    "\n",
    "# preprocessing\n",
    "pipe = ColumnPipeline(\n",
    "    numeric = ['yeo_johnson'],\n",
    "    categorical = ['one_hot'])\n",
    "\n",
    "X = pipe.fit_transform(df)\n",
    "print('Pipeline output shape:', X.shape)\n",
    "\n",
    "# instantiate encoder\n",
    "Encoder = get_encoder('MLPEncoder')\n",
    "enc = Encoder(\n",
    "    input_dim = pipe.output_dim,\n",
    "    output_dim = 32, # d\n",
    "    hidden_dims = [64, 64]) # default\n",
    "\n",
    "# forward pass\n",
    "emb = enc(X)\n",
    "print('Embedding shape:', emb.shape) # (batch, 32)\n"
   ]
  },
  {
   "cell_type": "code",
   "execution_count": null,
   "id": "32423242",
   "metadata": {},
   "outputs": [
    {
     "name": "stdout",
     "output_type": "stream",
     "text": [
      "A ~ p(a | x) shape: torch.Size([4, 3, 6])\n",
      "Joint pair shapes: torch.Size([4, 2, 6]) torch.Size([4, 2, 6])\n",
      "Any identical rows? False\n"
     ]
    }
   ],
   "source": [
    "import torch\n",
    "import numpy as np\n",
    "from adapters.kernel_to_multi import KernelToMulti\n",
    "from adapters.multi_to_joint import MultiToJoint\n",
    "\n",
    "# dummy kernel for testing\n",
    "class LinearKernel:\n",
    "    def compute(self, X1: torch.Tensor, X2: torch.Tensor) -> torch.Tensor:\n",
    "        return X1 @ X2.T  # (B, N)\n",
    "\n",
    "# testing data\n",
    "torch.manual_seed(0)\n",
    "X_ref = torch.randn(50, 8) # pretend x\n",
    "A_ref = torch.randn(50, 6) # pretend a\n",
    "\n",
    "# build first adapter\n",
    "k2multi = KernelToMulti(\n",
    "    k_obj = LinearKernel(),\n",
    "    n_samples = 3,\n",
    "    temperature = 0.5,\n",
    "    max_reference = 50).fit(X_ref, A_ref)\n",
    "\n",
    "X_query = torch.randn(4, 8)\n",
    "A_samples, _ = k2multi.transform(X_query) # (4, 3, 6)\n",
    "print('A ~ p(a | x) shape:', A_samples.shape)\n",
    "\n",
    "# build 2nd adapter\n",
    "multi2joint = MultiToJoint(n_pairs = 2, coupled = True)\n",
    "A1, A2 = multi2joint.transform(A_samples) # both (4, 2, 6)\n",
    "print('Joint pair shapes:', A1.shape, A2.shape)\n",
    "\n",
    "# no identical rows when coupled = True\n",
    "print('Any identical rows?', (A1 == A2).all(dim=-1).any().item())\n"
   ]
  }
 ],
 "metadata": {
  "kernelspec": {
   "display_name": "ww-env",
   "language": "python",
   "name": "python3"
  },
  "language_info": {
   "codemirror_mode": {
    "name": "ipython",
    "version": 3
   },
   "file_extension": ".py",
   "mimetype": "text/x-python",
   "name": "python",
   "nbconvert_exporter": "python",
   "pygments_lexer": "ipython3",
   "version": "3.13.5"
  }
 },
 "nbformat": 4,
 "nbformat_minor": 5
}
