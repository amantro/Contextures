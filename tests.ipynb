{
 "cells": [
  {
   "cell_type": "code",
   "execution_count": null,
   "id": "5ed60c37",
   "metadata": {},
   "outputs": [
    {
     "name": "stdout",
     "output_type": "stream",
     "text": [
      "Pipeline output shape: (4, 5)\n",
      "Embedding shape: torch.Size([4, 32])\n"
     ]
    }
   ],
   "source": [
    "import pandas as pd\n",
    "import torch\n",
    "from feature_transforms.pipeline import ColumnPipeline\n",
    "from utils.registry import get_encoder\n",
    "\n",
    "# test dataframe\n",
    "df = pd.DataFrame({\n",
    "    'f1' : [0.1, 0.3, 0.2, 0.9],\n",
    "    'f2' : [1.0, 0.2, 0.4, 0.5],\n",
    "    'city' : ['NY', 'LA', 'NY', 'SF'],\n",
    "})\n",
    "\n",
    "# preprocessing\n",
    "pipe = ColumnPipeline(\n",
    "    numeric = ['yeo_johnson', 'whiten'],\n",
    "    categorical = ['one_hot'])\n",
    "\n",
    "X = pipe.fit_transform(df)\n",
    "print('Pipeline output shape:', X.shape)\n",
    "\n",
    "# instantiate encoder\n",
    "Encoder = get_encoder('MLPEncoder')\n",
    "enc = Encoder(\n",
    "    input_dim = pipe.output_dim,\n",
    "    output_dim = 32, # d\n",
    "    hidden_dims = [64, 64]) # default\n",
    "\n",
    "# forward pass\n",
    "emb = enc(X)\n",
    "print('Embedding shape:', emb.shape) # (batch, 32)\n"
   ]
  }
 ],
 "metadata": {
  "kernelspec": {
   "display_name": "ww-env",
   "language": "python",
   "name": "python3"
  },
  "language_info": {
   "codemirror_mode": {
    "name": "ipython",
    "version": 3
   },
   "file_extension": ".py",
   "mimetype": "text/x-python",
   "name": "python",
   "nbconvert_exporter": "python",
   "pygments_lexer": "ipython3",
   "version": "3.13.5"
  }
 },
 "nbformat": 4,
 "nbformat_minor": 5
}
